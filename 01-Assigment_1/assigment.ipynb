{
  "cells": [
    {
      "cell_type": "markdown",
      "metadata": {
        "id": "c53ox5Nrb11E"
      },
      "source": [
        "# Language Identification"
      ]
    },
    {
      "cell_type": "code",
      "execution_count": 2,
      "metadata": {
        "colab": {
          "base_uri": "https://localhost:8080/"
        },
        "id": "z3WpTdk0c5ps",
        "outputId": "d804bc2d-9fcd-42f7-b280-8c7cf9bb689e"
      },
      "outputs": [],
      "source": [
        "#!pip install sacremoses"
      ]
    },
    {
      "cell_type": "markdown",
      "metadata": {
        "id": "TOehGQAlb11I"
      },
      "source": [
        "## Tokenize data in the proper language\n"
      ]
    },
    {
      "cell_type": "code",
      "execution_count": 3,
      "metadata": {
        "id": "_xR736JXb11I"
      },
      "outputs": [],
      "source": [
        "import re\n",
        "\n",
        "def clean_text(text):\n",
        "  \"\"\" Return the text in lower case, without strange characters and multiples spaces\"\"\"\n",
        "  text = text.lower()\n",
        "  text = re.sub(r'[^\\w\\s]', '', text)\n",
        "  text = re.sub(r'\\s+', ' ', text).strip()\n",
        "  return text\n"
      ]
    },
    {
      "cell_type": "code",
      "execution_count": 4,
      "metadata": {
        "colab": {
          "base_uri": "https://localhost:8080/"
        },
        "id": "TdhQzy-Nb11J",
        "outputId": "176ed5eb-ec55-48b5-bc50-9e71a9632de9"
      },
      "outputs": [
        {
          "name": "stdout",
          "output_type": "stream",
          "text": [
            "Tokenization completed (czech): czech.txt\n",
            "Number of tokens in czech: 366031 tokens\n",
            "Size of the data in czech : 2932440 bytes\n",
            "\n",
            "Tokenization completed (english): english.txt\n",
            "Number of tokens in english: 402224 tokens\n",
            "Size of the data in english : 3299032 bytes\n",
            "\n",
            "Tokenization completed (french): french.txt\n",
            "Number of tokens in french: 462473 tokens\n",
            "Size of the data in french : 3711448 bytes\n",
            "\n"
          ]
        }
      ],
      "source": [
        "import os\n",
        "import sys\n",
        "from sacremoses import MosesTokenizer\n",
        "\n",
        "def tokenize_files(directory):\n",
        "    \"\"\"\n",
        "    Tokenizes the content of all .txt files in a given directory\n",
        "    and returns a dictionary where each filename is associated with its list of tokens.\n",
        "    The file name must be a language.\n",
        "    \"\"\"\n",
        "    tokenized_data = {}\n",
        "\n",
        "    # Check if the directory exists\n",
        "    if not os.path.isdir(directory):\n",
        "        raise FileNotFoundError(f\"The directory '{directory}' does not exist.\")\n",
        "\n",
        "    # Iterate over .txt files\n",
        "    for filename in os.listdir(directory):\n",
        "        if filename.endswith(\".txt\"):\n",
        "            file_path = os.path.join(directory, filename)\n",
        "\n",
        "            # Determine the language from the filename\n",
        "            language = filename.replace(\".txt\", \"\").lower()\n",
        "            try:\n",
        "                tokenizer = MosesTokenizer(lang=language)  # Initialize tokenizer based on language\n",
        "                with open(file_path, \"r\", encoding=\"utf-8\") as f:\n",
        "                    content = clean_text(f.read())\n",
        "                    tokens = tokenizer.tokenize(content)  # Tokenization\n",
        "                    tokenized_data[language] = tokens  # Store tokens in dictionary\n",
        "\n",
        "                print(f\"Tokenization completed ({language}): {filename}\")\n",
        "                print(f\"Number of tokens in {language}: {len(tokens)} tokens\")\n",
        "                print(f\"Size of the data in {language} : {sys.getsizeof(tokens)} bytes\")\n",
        "                print(\"\")\n",
        "            except Exception as e:\n",
        "                print(f\"Error with {filename} ({language}): {e}\")\n",
        "\n",
        "    return tokenized_data\n",
        "\n",
        "directory_path = \"./data1\"\n",
        "tokenized_results = tokenize_files(directory_path)"
      ]
    },
    {
      "cell_type": "markdown",
      "metadata": {
        "id": "YjWeUmXUb11L"
      },
      "source": [
        "## Split Data\n",
        "We split the data into the training set, heldout and test sets. We will use 80% of the data for training.\n",
        "The"
      ]
    },
    {
      "cell_type": "code",
      "execution_count": 5,
      "metadata": {
        "id": "cqOuH1vrb11L"
      },
      "outputs": [],
      "source": [
        "def create_sets(tokenized_data):\n",
        "  \"\"\" Create training, held Out and test data set with tokenized_data\n",
        "  and returns all sets.\"\"\"\n",
        "\n",
        "  training_data={}\n",
        "  test_data={}\n",
        "  heldout_data={}\n",
        "\n",
        "  for language, tokens in tokenized_data.items():\n",
        "      split_training_point=int(len(tokens)*0.8)\n",
        "      split_test_point=int(len(tokens)*0.1+split_training_point)\n",
        "      training_data[language]=tokens[:split_training_point]\n",
        "      test_data[language]=tokens[split_training_point:split_test_point]\n",
        "      heldout_data[language]=tokens[split_test_point:]\n",
        "\n",
        "  return training_data,test_data,heldout_data\n",
        "\n",
        "sets=create_sets(tokenized_results)\n",
        "training_data=sets[0]\n",
        "test_data=sets[1]\n",
        "heldout_data=sets[2]\n",
        "\n",
        "\n"
      ]
    },
    {
      "cell_type": "code",
      "execution_count": 6,
      "metadata": {},
      "outputs": [
        {
          "name": "stdout",
          "output_type": "stream",
          "text": [
            "OOV percentage in held out data : {'czech': 11.84, 'english': 6.32, 'french': 10.88}\n",
            "OOV percentage in test data : {'czech': 11.35, 'english': 3.92, 'french': 9.14}\n"
          ]
        }
      ],
      "source": [
        "def calculate_oov_percentage(training_data, data):\n",
        "    \"\"\" Calculate the OOV percentage between the training data and a set of data\n",
        "    and returns this percentage.\n",
        "    \"\"\"\n",
        "    oov_percentages = {}\n",
        "\n",
        "    for language in heldout_data:\n",
        "        training_vocab = set(training_data.get(language))\n",
        "        tokens = data.get(language)\n",
        "        \n",
        "        oov_tokens = [token for token in tokens if token not in training_vocab]\n",
        "        oov_percentage = (len(oov_tokens) / len(tokens)) * 100 if tokens else 0\n",
        "\n",
        "        oov_percentages[language] = round(oov_percentage, 2)\n",
        "\n",
        "    return oov_percentages\n",
        "\n",
        "print(f\"OOV percentage in held out data : {calculate_oov_percentage(training_data, heldout_data)}\")\n",
        "print(f\"OOV percentage in test data : {calculate_oov_percentage(training_data, test_data)}\")"
      ]
    },
    {
      "cell_type": "markdown",
      "metadata": {
        "id": "UG44lWLXb11L"
      },
      "source": [
        "## Probabilities of n-grams\n",
        "\n",
        "First, we create n-grams (characters or tokens).\n"
      ]
    },
    {
      "cell_type": "code",
      "execution_count": 7,
      "metadata": {
        "id": "FuPH5NKYb11M"
      },
      "outputs": [],
      "source": [
        "def extract_charac_ngrams(tokens, n):\n",
        "  \"\"\"Extract characters n-grams from a given list of tokens\n",
        "  and returns a list of n-grams\"\"\"\n",
        "  return [token[i:i+n] for token in tokens for i in range(len(token) - n + 1)]\n",
        "\n"
      ]
    },
    {
      "cell_type": "code",
      "execution_count": 8,
      "metadata": {
        "id": "qJw5kXhAb11M"
      },
      "outputs": [],
      "source": [
        "def extract_tokens_ngrams(tokens, n):\n",
        "  \"\"\"Extract tokens n-grams from a given list of tokens\n",
        "  and returns a list of n-grams\"\"\"\n",
        "  ngrams_list = []\n",
        "  for i in range(len(tokens) - n + 1):\n",
        "      ngram = tuple(tokens[i:i + n])\n",
        "      ngrams_list.append(ngram)\n",
        "\n",
        "  return ngrams_list\n"
      ]
    },
    {
      "cell_type": "markdown",
      "metadata": {
        "id": "fxJj_eTGb11M"
      },
      "source": [
        "Now, we compute the probabilities and return a dictionary of ``` ngrams ```.\n"
      ]
    },
    {
      "cell_type": "code",
      "execution_count": 9,
      "metadata": {
        "id": "gLm-O9Svb11M"
      },
      "outputs": [],
      "source": [
        "from collections import Counter\n",
        "\n",
        "def compute_ngram_probabilities(extract_ngrams,tokens, n):\n",
        "    \"\"\"\n",
        "    Compute n-gram probabilities for a given list of tokens\n",
        "    and returns a dictionary of probabilities, n-gram counts for each and the total number of n-gram.\n",
        "    \"\"\"\n",
        "    ngrams = extract_ngrams(tokens, n)\n",
        "    ngram_counts = Counter(ngrams)\n",
        "    total_ngrams = sum(ngram_counts.values())\n",
        "    if n == 1:\n",
        "\n",
        "        probabilities = {ngram: count / total_ngrams for ngram, count in ngram_counts.items()}\n",
        "    else:\n",
        "        n_minus_1_grams = extract_ngrams(tokens, n - 1)\n",
        "        n_minus_1_counts = Counter(n_minus_1_grams)\n",
        "        probabilities = {}\n",
        "        for ngram, count in ngram_counts.items():\n",
        "            n_minus_1_ngram = ngram[:-1]\n",
        "            if n_minus_1_ngram in n_minus_1_counts:\n",
        "                probabilities[ngram] = count / n_minus_1_counts[n_minus_1_ngram]  # P(w_n | w_{n-2}, w_{n-1})\n",
        "            else:\n",
        "                probabilities[ngram] = 0\n",
        "\n",
        "    return probabilities, ngram_counts, total_ngrams\n",
        "\n"
      ]
    },
    {
      "cell_type": "code",
      "execution_count": 10,
      "metadata": {
        "id": "R7ER2Zknb11N"
      },
      "outputs": [],
      "source": [
        "def get_most_common(ngram_counts, total_ngrams, top_n=5):\n",
        "    \"\"\"Return the top 5 most common  n-grams along with their counts and relative frequencies.\"\"\"\n",
        "    most_common = [(ngram, count, count / total_ngrams) for ngram, count in ngram_counts.most_common(top_n)]\n",
        "    return most_common\n"
      ]
    },
    {
      "cell_type": "code",
      "execution_count": 11,
      "metadata": {
        "id": "i1Ry82oub11N"
      },
      "outputs": [],
      "source": [
        "def get_least_common(ngram_counts, total_ngrams, top_n=5):\n",
        "    \"\"\"Return the top 5 least common n-grams along with their counts and relative frequencies.\"\"\"\n",
        "    least_common = [(ngram, count, count / total_ngrams) for ngram, count in ngram_counts.most_common()[-top_n:]]\n",
        "    return least_common\n"
      ]
    },
    {
      "cell_type": "code",
      "execution_count": 12,
      "metadata": {},
      "outputs": [],
      "source": [
        "def process_tokenized_data(extract_ngrams,tokenized_data):\n",
        "    \"\"\"\n",
        "    Process tokenized data and compute unigram, bigram, and trigram probabilities\n",
        "    and returns a dictionary with languages (filenames) as keys and n-gram probabilities, most and least common trigrams as values.\n",
        "    \"\"\"\n",
        "    results = {}\n",
        "\n",
        "    for language, tokens in tokenized_data.items():\n",
        "        unigram_probs, unigram_counts, total_unigrams = compute_ngram_probabilities(extract_ngrams,tokens, 1)\n",
        "        bigram_probs, bigram_counts, total_bigrams = compute_ngram_probabilities(extract_ngrams,tokens, 2)\n",
        "        trigram_probs, trigram_counts, total_trigrams = compute_ngram_probabilities(extract_ngrams,tokens, 3)\n",
        "\n",
        "        results[language] = {\n",
        "            'unigram': unigram_probs,\n",
        "            'bigram': bigram_probs,\n",
        "            'trigram': trigram_probs,\n",
        "            'most_common_trigrams': get_most_common(trigram_counts, total_trigrams),\n",
        "            'least_common_trigrams': get_least_common(trigram_counts, total_trigrams),\n",
        "        }\n",
        "\n",
        "    return results\n",
        "\n",
        "ngram_charac_results = process_tokenized_data(extract_charac_ngrams, training_data)\n",
        "\n",
        "ngram_tokens_results = process_tokenized_data(extract_tokens_ngrams, training_data)\n"
      ]
    },
    {
      "cell_type": "code",
      "execution_count": 13,
      "metadata": {},
      "outputs": [
        {
          "name": "stdout",
          "output_type": "stream",
          "text": [
            "Data Language: czech\n",
            "Most Common: [('ost', 4618, 0.005558497833413578), ('sta', 4555, 0.0054826673086182), ('byl', 4109, 0.004945835339431873), ('jak', 3952, 0.0047568608570052965), ('val', 3813, 0.00458955223880597)]\n",
            "Least Common: [('sóa', 1, 1.2036591237361579e-06), ('koť', 1, 1.2036591237361579e-06), ('oťá', 1, 1.2036591237361579e-06), ('ťát', 1, 1.2036591237361579e-06), ('yša', 1, 1.2036591237361579e-06)]\n",
            "Data Language: english\n",
            "Most Common: [('the', 21738, 0.02821563191177845), ('and', 12975, 0.016841375658079187), ('ing', 9499, 0.012329574364246181), ('her', 9441, 0.012254291143578082), ('hat', 5583, 0.0072466589825862125)]\n",
            "Least Common: [('ieg', 1, 1.2979865632430974e-06), ('870', 1, 1.2979865632430974e-06), ('shh', 1, 1.2979865632430974e-06), ('zyb', 1, 1.2979865632430974e-06), ('ghh', 1, 1.2979865632430974e-06)]\n",
            "Data Language: french\n",
            "Most Common: [('ait', 12546, 0.012786149459141598), ('ent', 11466, 0.011685476621912766), ('que', 11411, 0.011629423838535371), ('ous', 8693, 0.008859397198176144), ('ant', 7312, 0.007451962764645573)]\n",
            "Least Common: [('duj', 1, 1.0191415159526222e-06), ('uja', 1, 1.0191415159526222e-06), ('mif', 1, 1.0191415159526222e-06), ('léz', 1, 1.0191415159526222e-06), ('éza', 1, 1.0191415159526222e-06)]\n"
          ]
        }
      ],
      "source": [
        "for filename, ngrams in ngram_charac_results.items():\n",
        "    print(f\"Data Language: {filename}\")\n",
        "    print(f\"Most Common: {ngrams['most_common_trigrams']}\")\n",
        "    print(f\"Least Common: {list(ngrams['least_common_trigrams'])}\")"
      ]
    },
    {
      "cell_type": "code",
      "execution_count": 14,
      "metadata": {
        "colab": {
          "base_uri": "https://localhost:8080/"
        },
        "id": "TRUVnxQ2b11N",
        "outputId": "3a3d5165-425b-4584-8e6a-fa16ccacb8a4"
      },
      "outputs": [
        {
          "name": "stdout",
          "output_type": "stream",
          "text": [
            "Data Language: czech\n",
            "Most Common: [(('jako', 'by', 'se'), 67, 0.00022880794475824904), (('že', 'je', 'to'), 53, 0.00018099732943562983), (('se', 's', 'ním'), 50, 0.00017075219758078285), (('pan', 'goljadkin', 'mladší'), 49, 0.0001673371536291672), (('se', 'na', 'něho'), 43, 0.00014684688991947327)]\n",
            "Least Common: [(('se', 'odvděčím', 'můj'), 1, 3.4150439516156572e-06), (('milý', 'vidíš', 'takové'), 1, 3.4150439516156572e-06), (('vidíš', 'takové', 'to'), 1, 3.4150439516156572e-06), (('to', 'je', 'mnoholi'), 1, 3.4150439516156572e-06), (('je', 'mnoholi', 'ti'), 1, 3.4150439516156572e-06)]\n",
            "-\n",
            "Data Language: english\n",
            "Most Common: [(('i', 'do', 'not'), 85, 0.0002641580970672236), (('there', 'was', 'a'), 79, 0.00024551164315659603), (('one', 'of', 'the'), 76, 0.00023618841620128226), (('i', 'am', 'sure'), 73, 0.00022686518924596848), (('as', 'soon', 'as'), 72, 0.00022375744692753057)]\n",
            "Least Common: [(('way', 'he', 'does'), 1, 3.1077423184379244e-06), (('he', 'does', 'provoke'), 1, 3.1077423184379244e-06), (('does', 'provoke', 'me'), 1, 3.1077423184379244e-06), (('provoke', 'me', 'so'), 1, 3.1077423184379244e-06), (('me', 'so', 'muttered'), 1, 3.1077423184379244e-06)]\n",
            "-\n",
            "Data Language: french\n",
            "Most Common: [(('m', 'de', 'tréville'), 266, 0.0007189655545224555), (('il', 'y', 'a'), 190, 0.0005135468246588968), (('lord', 'de', 'winter'), 131, 0.00035407702121218674), (('il', 'y', 'avait'), 129, 0.0003486712651631457), (('le', 'jeune', 'homme'), 104, 0.000281099314550133)]\n",
            "Least Common: [(('desséchés', 'reluisaient', 'comme'), 1, 2.7028780245205093e-06), (('reluisaient', 'comme', 'des'), 1, 2.7028780245205093e-06), (('comme', 'des', 'émeraudes'), 1, 2.7028780245205093e-06), (('des', 'émeraudes', 'taillées'), 1, 2.7028780245205093e-06), (('émeraudes', 'taillées', 'dans'), 1, 2.7028780245205093e-06)]\n",
            "-\n"
          ]
        }
      ],
      "source": [
        "for filename, ngrams in ngram_tokens_results.items():\n",
        "    print(f\"Data Language: {filename}\")\n",
        "    print(f\"Most Common: {ngrams['most_common_trigrams']}\")\n",
        "    print(f\"Least Common: {list(ngrams['least_common_trigrams'])}\")\n",
        "    print(\"-\")"
      ]
    },
    {
      "cell_type": "markdown",
      "metadata": {
        "id": "VmxhdJ2Vb11O"
      },
      "source": [
        "## Add less than one smoothing parameter"
      ]
    },
    {
      "cell_type": "code",
      "execution_count": null,
      "metadata": {},
      "outputs": [
        {
          "name": "stdout",
          "output_type": "stream",
          "text": [
            "✅ czech: 239625 unique trigrams\n",
            "=======================================================================================================================================================================================================================================================================================================================================================================================================================================================================================================================================================================================================================================================================================================================================================================================================================================================================================================================================================================================================================================.\n",
            "✅ english: 264964 unique trigrams\n",
            "=======================================================================================================================================================================================================================================================================================================================================================================================================================================================================================================================================================================================================================================================================================================================================================================================================================================================================================================================================================================================================================================.\n",
            "✅ french: 312476 unique trigrams\n",
            "=======================================================================================================================================================================================================================================================================================================================================================================================================================================================================================================================================================================================================================================================================================================================================================================================================================================================================================================================================================================================================================================.\n"
          ]
        },
        {
          "data": {
            "image/png": "[encoded data removed]",
            "text/plain": [
              "<Figure size 640x480 with 1 Axes>"
            ]
          },
          "metadata": {},
          "output_type": "display_data"
        },
        {
          "name": "stdout",
          "output_type": "stream",
          "text": [
            "✅ czech: 8754 unique trigrams\n",
            "=======================================================================================================================================================================================================================================================================================================================================================================================================================================================================================================================================================================================================================================================================================================================================================================================================================================================================================================================================================================================================================================.\n",
            "✅ english: 5821 unique trigrams\n",
            "=======================================================================================================================================================================================================================================================================================================================================================================================================================================================================================================================================================================================================================================================================================================================================================================================================================================================================================================================================================================================================================================.\n",
            "✅ french: 5088 unique trigrams\n",
            "=======================================================================================================================================================================================================================================================================================================================================================================================================================================================================================================================================================================================================================================================================================================================================================================================================================================================================================================================================================================================================================================.\n"
          ]
        },
        {
          "data": {
            "image/png": "[encoded data removed]",
            "text/plain": [
              "<Figure size 640x480 with 1 Axes>"
            ]
          },
          "metadata": {},
          "output_type": "display_data"
        }
      ],
      "source": [
        "import numpy as np\n",
        "import matplotlib.pyplot as plt\n",
        "from collections import Counter, defaultdict\n",
        "\n",
        "def estimate_best_smoothing_parameter_conditional(extract_ngrams, training_data, heldout_data, initial_lambda=0.1):\n",
        "    \"\"\"\n",
        "    Estimate the best smoothing parameter using add-less-than-one smoothing,\n",
        "    with conditional probabilities based on the preceding bigram.\n",
        "    Returns a dictionary with language as key and best lambda as value.\n",
        "    \"\"\"\n",
        "    smoothing_parameters = {}\n",
        "\n",
        "    for language in training_data:\n",
        "        training_trigrams = extract_ngrams(training_data[language], 3)\n",
        "        heldout_trigrams = extract_ngrams(heldout_data[language], 3)\n",
        "\n",
        "        # Count trigrams and bigrams in training data\n",
        "        trigram_counts = Counter(training_trigrams)\n",
        "        bigram_counts = Counter([trigram[:2] for trigram in training_trigrams])\n",
        "        vocab = set([trigram[2] for trigram in training_trigrams])\n",
        "        vocab_size = len(vocab)\n",
        "\n",
        "        best_lambda = initial_lambda\n",
        "        best_likelihood = float('-inf')\n",
        "\n",
        "        print(f\"✅ {language}: {len(trigram_counts)} unique trigrams\")\n",
        "\n",
        "        likelihoods = []\n",
        "        lambda_candidates = []\n",
        "\n",
        "        for lambda_100 in range(1, 1000, 10):\n",
        "            print(\"=\", end='')\n",
        "            lambda_candidate = lambda_100 / 1000\n",
        "            likelihood = 0\n",
        "\n",
        "            for trigram in heldout_trigrams:\n",
        "                bigram = trigram[:2]\n",
        "                trigram_count = trigram_counts[trigram]\n",
        "                bigram_count = bigram_counts[bigram]\n",
        "                \n",
        "                smoothed_prob = (trigram_count + lambda_candidate) / (bigram_count + lambda_candidate * vocab_size)\n",
        "                likelihood += np.log(smoothed_prob)\n",
        "\n",
        "            likelihoods.append(likelihood)\n",
        "            lambda_candidates.append(lambda_candidate)\n",
        "\n",
        "            if likelihood > best_likelihood:\n",
        "                best_likelihood = likelihood\n",
        "                best_lambda = lambda_candidate\n",
        "\n",
        "        smoothing_parameters[language] = best_lambda\n",
        "        print(\".\")\n",
        "        plt.plot(lambda_candidates, likelihoods, label=language)\n",
        "\n",
        "    plt.xlabel(\"Lambda\")\n",
        "    plt.ylabel(\"Log-Likelihood\")\n",
        "    plt.title(\"Évolution de la log-likelihood conditionnelle pour chaque langue\")\n",
        "    plt.legend()\n",
        "    plt.xscale(\"log\")\n",
        "    plt.show()\n",
        "\n",
        "    return smoothing_parameters\n",
        "\n",
        "lambda_tokens_results = estimate_best_smoothing_parameter_conditional(extract_tokens_ngrams, training_data, heldout_data)\n",
        "lambda_charac_results = estimate_best_smoothing_parameter_conditional(extract_charac_ngrams, training_data, heldout_data)\n"
      ]
    },
    {
      "cell_type": "code",
      "execution_count": 28,
      "metadata": {},
      "outputs": [
        {
          "name": "stdout",
          "output_type": "stream",
          "text": [
            "Best smoothing parameters:\n",
            "Tokens : {'czech': 0.002, 'english': 0.003, 'french': 0.002}\n",
            "Charac : {'czech': 0.059, 'english': 0.077, 'french': 0.678}\n"
          ]
        }
      ],
      "source": [
        "print(\"Best smoothing parameters:\")\n",
        "print(f\"Tokens : {lambda_tokens_results}\")\n",
        "\n",
        "print(f\"Charac : {lambda_charac_results}\")"
      ]
    },
    {
      "cell_type": "markdown",
      "metadata": {
        "id": "K7Scd_Gpb11P"
      },
      "source": [
        "## Compute Cross Entropy of trigram"
      ]
    },
    {
      "cell_type": "code",
      "execution_count": 30,
      "metadata": {},
      "outputs": [],
      "source": [
        "def compute_cross_entropy(extract_ngrams, trigrams, best_lambda, language):\n",
        "    \"\"\"\n",
        "    Calcule l'entropie croisée en utilisant le lissage \"Add Less Than One\".\n",
        "    \n",
        "    :param trigrams: Liste des trigrammes extraits du texte à analyser.\n",
        "    :param train_counts: Dictionnaire des comptes de trigrammes du modèle.\n",
        "    :param best_lambda: Paramètre de lissage optimisé.\n",
        "    :param V: Nombre total de trigrammes uniques (vocabulaire).\n",
        "    :return: L'entropie croisée du texte pour cette langue.\n",
        "    \"\"\"\n",
        "    H = len(trigrams)\n",
        "    \n",
        "    training_trigrams = extract_ngrams(training_data[language], 3)\n",
        "    trigram_counts = Counter(training_trigrams)\n",
        "    bigram_counts = Counter([trigram[:2] for trigram in training_trigrams])\n",
        "\n",
        "    vocab = set([trigram[2] for trigram in training_trigrams])\n",
        "    vocab_size = len(vocab)\n",
        "\n",
        "    entropy = 0\n",
        "    for trigram in trigrams:\n",
        "        bigram = trigram[:2]\n",
        "        trigram_count = trigram_counts.get(trigram, 0)\n",
        "        bigram_count = bigram_counts.get(bigram, 0)\n",
        "\n",
        "        smoothed_prob = (trigram_count + best_lambda) / (bigram_count + best_lambda * vocab_size)\n",
        "\n",
        "        entropy -= np.log2(smoothed_prob)\n",
        "\n",
        "\n",
        "    return entropy / H\n"
      ]
    },
    {
      "cell_type": "code",
      "execution_count": 31,
      "metadata": {
        "colab": {
          "base_uri": "https://localhost:8080/"
        },
        "id": "EMuxIYGqb11Q",
        "outputId": "a101e730-47cf-4122-cf0a-3c7445293315"
      },
      "outputs": [
        {
          "name": "stdout",
          "output_type": "stream",
          "text": [
            "Language Training : czech, Language test : czech\n",
            " Proba Cross-Entropy :14.635537035912408\n",
            "\n",
            "\n",
            "Language Training : czech, Language test : english\n",
            " Proba Cross-Entropy :15.189849267005622\n",
            "\n",
            "\n",
            "Language Training : czech, Language test : french\n",
            " Proba Cross-Entropy :15.189396309814004\n",
            "\n",
            "\n",
            "Language Training : english, Language test : czech\n",
            " Proba Cross-Entropy :14.265628605631235\n",
            "\n",
            "\n",
            "Language Training : english, Language test : english\n",
            " Proba Cross-Entropy :12.876128038138\n",
            "\n",
            "\n",
            "Language Training : english, Language test : french\n",
            " Proba Cross-Entropy :14.22896923301166\n",
            "\n",
            "\n",
            "Language Training : french, Language test : czech\n",
            " Proba Cross-Entropy :14.612273957119559\n",
            "\n",
            "\n",
            "Language Training : french, Language test : english\n",
            " Proba Cross-Entropy :14.61167739632073\n",
            "\n",
            "\n",
            "Language Training : french, Language test : french\n",
            " Proba Cross-Entropy :13.335826385921626\n",
            "\n",
            "\n",
            "Language Training : czech, Language test : czech\n",
            " Proba Cross-Entropy :2.9399140359993905\n",
            "\n",
            "\n",
            "Language Training : czech, Language test : english\n",
            " Proba Cross-Entropy :6.180297981410133\n",
            "\n",
            "\n",
            "Language Training : czech, Language test : french\n",
            " Proba Cross-Entropy :6.0711786945108015\n",
            "\n",
            "\n",
            "Language Training : english, Language test : czech\n",
            " Proba Cross-Entropy :6.78438925038597\n",
            "\n",
            "\n",
            "Language Training : english, Language test : english\n",
            " Proba Cross-Entropy :2.5854707093980225\n",
            "\n",
            "\n",
            "Language Training : english, Language test : french\n",
            " Proba Cross-Entropy :3.9326649238493436\n",
            "\n",
            "\n",
            "Language Training : french, Language test : czech\n",
            " Proba Cross-Entropy :6.3478424889662115\n",
            "\n",
            "\n",
            "Language Training : french, Language test : english\n",
            " Proba Cross-Entropy :5.206326538479767\n",
            "\n",
            "\n",
            "Language Training : french, Language test : french\n",
            " Proba Cross-Entropy :2.7625800467176473\n",
            "\n",
            "\n"
          ]
        }
      ],
      "source": [
        "cross_entropies = {}\n",
        "\n",
        "for language_train in training_data.keys():\n",
        "  best_lambda = lambda_tokens_results.get(language_train, 0.002)\n",
        "  for language, test_tokens in test_data.items():\n",
        "      trigrams = extract_tokens_ngrams(test_tokens, 3)\n",
        "      cross_entropies[language,language_train] =compute_cross_entropy(extract_tokens_ngrams,trigrams, best_lambda, language_train)\n",
        "\n",
        "for languages in cross_entropies.keys():\n",
        "    print(f\"Language Training : {languages[1]}, Language test : {languages[0]}\\n Proba Cross-Entropy :{cross_entropies.get(languages)}\")\n",
        "    print(\"\\n\")\n",
        "\n",
        "cross_entropies = {}\n",
        "for language_train in training_data.keys():\n",
        "  best_lambda = lambda_charac_results.get(language_train, 0.002)\n",
        "  for language, test_tokens in test_data.items():\n",
        "      trigrams = extract_charac_ngrams(test_tokens, 3)\n",
        "      cross_entropies[language,language_train] =compute_cross_entropy(extract_charac_ngrams,trigrams, best_lambda, language_train)\n",
        "\n",
        "for languages in cross_entropies.keys():\n",
        "    print(f\"Language Training : {languages[1]}, Language test : {languages[0]}\\n Proba Cross-Entropy :{cross_entropies.get(languages)}\")\n",
        "    print(\"\\n\")"
      ]
    },
    {
      "cell_type": "markdown",
      "metadata": {
        "id": "_HzRKMZDb11Q"
      },
      "source": [
        "With that output, we can see that is less important when it is the good language, we will use this for the implementation of ``identify_language()``"
      ]
    },
    {
      "cell_type": "markdown",
      "metadata": {
        "id": "tBaEzMCcb11Q"
      },
      "source": [
        "## Identify Language"
      ]
    },
    {
      "cell_type": "code",
      "execution_count": 32,
      "metadata": {
        "id": "9KLfvY-Cb11Q"
      },
      "outputs": [],
      "source": [
        "def softmax(scores):\n",
        "    \"\"\"Transform scores into probabilities\"\"\"\n",
        "    exp_scores = np.exp(-np.array(list(scores.values())))  # e^(-H)\n",
        "    sum_exp_scores = np.sum(exp_scores)\n",
        "    probabilities = {lang: exp_scores[i] / sum_exp_scores for i, lang in enumerate(scores)}\n",
        "    return probabilities"
      ]
    },
    {
      "cell_type": "code",
      "execution_count": 33,
      "metadata": {
        "id": "yiWsc52Tb11Q"
      },
      "outputs": [],
      "source": [
        "def identify_tokens_language(text_):\n",
        "    \"\"\"Identifies the language of a given text by comparing tokens trigram probabilities\n",
        "    and returns a sorted list with the language and probabilities the most probable to the least\"\"\"\n",
        "\n",
        "    tokenizer = MosesTokenizer(lang='en')  # Default to English tokenizer\n",
        "    tokens_text = tokenizer.tokenize(text_)\n",
        "\n",
        "    if len(tokens_text) < 3 :\n",
        "        print(\"Text too short, please send at least 3 words\")\n",
        "        return None\n",
        "\n",
        "    trigrams_text = extract_tokens_ngrams(tokens_text, 3)\n",
        "\n",
        "    language_scores = {}\n",
        "\n",
        "    for language in training_data.keys():\n",
        "        language_scores[language] = compute_cross_entropy(extract_tokens_ngrams,trigrams_text, lambda_tokens_results.get(language, 0.002),language)\n",
        "    \n",
        "    \n",
        "    language_probabilities = softmax(language_scores)\n",
        "    sorted_languages = sorted(language_probabilities.items(), key=lambda x: x[1],reverse=True)\n",
        "\n",
        "\n",
        "\n",
        "    return sorted_languages\n",
        "\n",
        "\n",
        "def identify_charac_language(text_):\n",
        "    \"\"\"Identifies the language of a given text by comparing characters trigram probabilities\n",
        "     and returns a sorted list with the language and probabilities the most probable to the least\"\"\"\n",
        "\n",
        "    tokenizer = MosesTokenizer(lang='en')  # Default to English tokenizer\n",
        "    tokens_text = tokenizer.tokenize(text_)\n",
        "\n",
        "    if len(tokens_text) < 3 :\n",
        "        print(\"Text too short, please send at least 3 words\")\n",
        "        return None\n",
        "\n",
        "    trigrams_text = extract_charac_ngrams(tokens_text, 3)\n",
        "\n",
        "    language_scores = {}\n",
        "\n",
        "    for language in training_data.keys():\n",
        "        language_scores[language] = compute_cross_entropy(extract_charac_ngrams,trigrams_text, lambda_charac_results.get(language, 0.002),language)\n",
        "    \n",
        "    \n",
        "    language_probabilities = softmax(language_scores)\n",
        "    sorted_languages = sorted(language_probabilities.items(), key=lambda x: x[1],reverse=True)\n",
        "\n",
        "\n",
        "\n",
        "    return sorted_languages\n",
        "\n",
        "\n",
        "\n"
      ]
    },
    {
      "cell_type": "markdown",
      "metadata": {
        "id": "CT5pF_YQb11R"
      },
      "source": [
        "Neither of comparing using characters and tokens probabilities is very efficient, but using both reduce wrong return."
      ]
    },
    {
      "cell_type": "code",
      "execution_count": 34,
      "metadata": {
        "id": "1C6xPcp3hUq8"
      },
      "outputs": [],
      "source": [
        "def identify_language(text_):\n",
        "    \"\"\" Identifies the language of a given text by comparing trigram of characters and tokens probabilities\n",
        "     and returns a sorted list with the language and probabilities the most probable to the least\"\"\"\n",
        "    tokens_prob = identify_tokens_language(text_)\n",
        "    charac_prob = identify_charac_language(text_)\n",
        "    if charac_prob[0][1] > tokens_prob[0][1] :\n",
        "        return charac_prob\n",
        "    return tokens_prob"
      ]
    },
    {
      "cell_type": "code",
      "execution_count": 35,
      "metadata": {},
      "outputs": [
        {
          "name": "stdout",
          "output_type": "stream",
          "text": [
            "Both trigrams : [('french', np.float64(0.6770639028384634)), ('english', np.float64(0.29670909474906093)), ('czech', np.float64(0.02622700241247566))]\n",
            "\n",
            "\n",
            "Tokens : [('english', np.float64(0.4797180883356312)), ('french', np.float64(0.3298405222431865)), ('czech', np.float64(0.19044138942118238))]\n",
            "Charac : [('french', np.float64(0.6770639028384634)), ('english', np.float64(0.29670909474906093)), ('czech', np.float64(0.02622700241247566))]\n"
          ]
        }
      ],
      "source": [
        "\n",
        "text = \"je susi ravie de te rencontrer  \"\n",
        "print(f\"Both trigrams : {identify_language(text)}\")\n",
        "print(\"\\n\")\n",
        "print(f\"Tokens : {identify_tokens_language(text)}\")\n",
        "print(f\"Charac : {identify_charac_language(text)}\")"
      ]
    },
    {
      "cell_type": "code",
      "execution_count": 36,
      "metadata": {},
      "outputs": [
        {
          "name": "stdout",
          "output_type": "stream",
          "text": [
            "----- Test for Czech Language -----\n",
            "Test text : Jsem test a pracuji\n",
            "\n",
            "\n",
            "Both trigrams : [('czech', np.float64(0.8456819854875095)), ('french', np.float64(0.09487340677909646)), ('english', np.float64(0.059444607733393925))]\n",
            "\n",
            "\n",
            "Tokens : [('english', np.float64(0.4753134023023119)), ('french', np.float64(0.33599380719021305)), ('czech', np.float64(0.18869279050747514))]\n",
            "Charac : [('czech', np.float64(0.8456819854875095)), ('french', np.float64(0.09487340677909646)), ('english', np.float64(0.059444607733393925))]\n",
            "\n",
            "\n"
          ]
        }
      ],
      "source": [
        "print(\"----- Test for Czech Language -----\")\n",
        "text1 = \"Jsem test a pracuji\"\n",
        "print(f\"Test text : {text1}\")\n",
        "print(\"\\n\")\n",
        "print(f\"Both trigrams : {identify_language(text1)}\")\n",
        "print(\"\\n\")\n",
        "print(f\"Tokens : {identify_tokens_language(text1)}\")\n",
        "print(f\"Charac : {identify_charac_language(text1)}\")\n",
        "print(\"\\n\")\n"
      ]
    },
    {
      "cell_type": "code",
      "execution_count": 37,
      "metadata": {
        "colab": {
          "base_uri": "https://localhost:8080/"
        },
        "id": "vZuDbdF8b11R",
        "outputId": "4d752468-72c0-4491-950f-227d3d3eff50"
      },
      "outputs": [
        {
          "name": "stdout",
          "output_type": "stream",
          "text": [
            "----- Test for English Language -----\n",
            "Test text : I am a test and I am working\n",
            "\n",
            "\n",
            "Both trigrams : [('english', np.float64(0.8449580257650083)), ('french', np.float64(0.09943845625737475)), ('czech', np.float64(0.055603517977616895))]\n",
            "\n",
            "\n",
            "Tokens : [('english', np.float64(0.4650866694535091)), ('french', np.float64(0.3425427049895165)), ('czech', np.float64(0.19237062555697432))]\n",
            "Charac : [('english', np.float64(0.8449580257650083)), ('french', np.float64(0.09943845625737475)), ('czech', np.float64(0.055603517977616895))]\n",
            "\n",
            "\n"
          ]
        }
      ],
      "source": [
        "\n",
        "\n",
        "print(\"----- Test for English Language -----\")\n",
        "text = \"I am a test and I am working\"\n",
        "print(f\"Test text : {text}\")\n",
        "print(\"\\n\")\n",
        "print(f\"Both trigrams : {identify_language(text)}\")\n",
        "print(\"\\n\")\n",
        "print(f\"Tokens : {identify_tokens_language(text)}\")\n",
        "print(f\"Charac : {identify_charac_language(text)}\")\n",
        "print(\"\\n\")\n",
        "\n"
      ]
    },
    {
      "cell_type": "code",
      "execution_count": 38,
      "metadata": {},
      "outputs": [
        {
          "name": "stdout",
          "output_type": "stream",
          "text": [
            "----- Test for French Language -----\n",
            "Test text : Je suis un test et je fonctionne\n",
            "\n",
            "\n",
            "Both trigrams : [('french', np.float64(0.7507502659744881)), ('english', np.float64(0.23521567307768718)), ('czech', np.float64(0.014034060947824634))]\n",
            "\n",
            "\n",
            "Tokens : [('english', np.float64(0.5594732272509916)), ('czech', np.float64(0.2242468081819785)), ('french', np.float64(0.2162799645670299))]\n",
            "Charac : [('french', np.float64(0.7507502659744881)), ('english', np.float64(0.23521567307768718)), ('czech', np.float64(0.014034060947824634))]\n",
            "------------------------------------\n"
          ]
        }
      ],
      "source": [
        "print(\"----- Test for French Language -----\")\n",
        "text = \"Je suis un test et je fonctionne\"\n",
        "print(f\"Test text : {text}\")\n",
        "print(\"\\n\")\n",
        "print(f\"Both trigrams : {identify_language(text)}\")\n",
        "print(\"\\n\")\n",
        "print(f\"Tokens : {identify_tokens_language(text)}\")\n",
        "print(f\"Charac : {identify_charac_language(text)}\")\n",
        "print(\"------------------------------------\")"
      ]
    }
  ],
  "metadata": {
    "colab": {
      "provenance": []
    },
    "kernelspec": {
      "display_name": "Python 3",
      "language": "python",
      "name": "python3"
    },
    "language_info": {
      "codemirror_mode": {
        "name": "ipython",
        "version": 3
      },
      "file_extension": ".py",
      "mimetype": "text/x-python",
      "name": "python",
      "nbconvert_exporter": "python",
      "pygments_lexer": "ipython3",
      "version": "3.13.2"
    }
  },
  "nbformat": 4,
  "nbformat_minor": 0
}
